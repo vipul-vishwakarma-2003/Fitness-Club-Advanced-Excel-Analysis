{
  "nbformat": 4,
  "nbformat_minor": 0,
  "metadata": {
    "colab": {
      "provenance": []
    },
    "kernelspec": {
      "name": "python3",
      "display_name": "Python 3"
    },
    "language_info": {
      "name": "python"
    }
  },
  "cells": [
    {
      "cell_type": "markdown",
      "source": [
        "Fitness Club Advanced Excel Analysis\n",
        "\n",
        "\n",
        "---\n",
        "\n",
        "1. Membership Duration in Months<br> Add a column Membership_Duration_Months\n",
        " to calculate how many full months a member has been active.\n",
        "  - Step 1 - select a new cell to create a column by the name of membership_duration_months.<br>\n",
        "  Step 2 - In the column cell type the formula =(G2-F2)/30 press ENTER.<br>\n",
        "  Step 3 - Drag the fill handle till the end.\n",
        "\n",
        "2. Referral Impact<br> Create a new column Referred<br>. Mark as Yes if referred_by column is not blank and mark as No if the column is blank.<br>\n",
        "Then use a Pivot Table to compare average Monthly_Fee for referred vs. non-referred members.\n",
        "  - Step 1 - create column in cell M by the name of Reffered<br>\n",
        "  Step 2 - enter the formula =IF(k2 = \"\", \"No\", \"Yes\") press ENTER.<br>\n",
        "  Step 3 - Drag the fill handle till the end.\n",
        "  - For Pivot table select the entire range of data and create a pivote table<Br>In that drag the reffered column in row bow and drag the monthly fee column in vlaues box and turn it into average.\n",
        "\n",
        "3. Revenue Calculation<br>\n",
        " Add a column Total revenue.<br>\n",
        " Then calculate the total revenue earned from<br>\n",
        " Premium members<br>\n",
        " Family memberships<br>\n",
        " City-wise breakdown using Pivot Table\n",
        "  - step 1 - create column in cell N by the name of Total_revenue.<br>\n",
        "  Step 2 - Enter the formula =H2*L2 press ENTER.<br>\n",
        "  Step 3 - Drag the fill handle till the end.\n",
        "  - Use the Pivot table in the row bow drag the membership type, in column box drag the city and in value column drag the Total_revenue.<br>\n",
        "  Filter the row label and select the only option premium and family.\n",
        "\n",
        "4. Identify Low Engagement Members<br>\n",
        " Use Conditional Formatting to highlight:<br>\n",
        " Members with Attendance < 8<br>\n",
        " AND whose Membership_Duration_Months >= 6<br>\n",
        " These are long-term but inactive users—flag them.\n",
        "  - Step 1 - Select the entire except the heading row.<br>\n",
        "  Step 2 - Select the conditional formatting option -><br>\n",
        "  new rule -> Use a formula to determine which cells to format -> enter the formula =AND(I2 < 8, L2 <= 6) press OK.\n",
        "\n",
        "5.  Segment Profitability Dashboard <br>\n",
        "The management at PowerFit India wants deeper insights into which combinations of member traits (like city,\n",
        "membership type, and referral status) bring in the most revenue.<br>\n",
        "\n",
        " Your task is to create a Segment Profitability Dashboard using Pivot Tables, Calculated Fields, and Pivot\n",
        "Charts that can answer\n",
        "\n",
        " 1.Which City + Membership Type + Referral combinations are most profitable<br>\n",
        " 2.What is the average revenue per member across different segments<br>\n",
        " 3.Where should PowerFit focus its marketing or referral programs<br>\n",
        "\n",
        "  - Mumbai's refferal members are most profitable for the PowerFit India with grand total of 85170.\n",
        "  - Total revenue average is more from the member who are not reffered compare to reffered one.\n",
        "  - PowerFit India should focus on their marketing rather their refferal because revenue from non reffered members are more than the reffered members.\n",
        "\n",
        "6. Gender & Age Distribution<br>\n",
        "Create two Pivot Tables<br>\n",
        " Gender-wise count of members per city<br>\n",
        " Age distribution across Membership Types:<br>\n",
        " 18–30 = Youth<br>\n",
        " 31–45 = Adults<br>\n",
        " 46+ = Seniors\n",
        "  - To display the pivot table for gender wise count of member per city.<br>\n",
        "  we can select the data and make a pivot table in which rows box can have gender, column box can have city and in value box we use can count of ID to get the numbers of members.\n",
        "  - For age distribution <br>\n",
        "  we can make another column which can show the type of age for that we can use the formula =IF(C1>=18, IF(C1<=30, \"Youth\", IF(C1<=45, \"Adult\", \"Senior\")), \"\") .<br>\n",
        "  now we can use this table to show in pivot table in row box we can have membership type, in columns box we can use the age type column and for the count we can use the names of the members.\n",
        "\n",
        "\n",
        "\n",
        "\n",
        "\n",
        "\n",
        "\n",
        "\n",
        "\n",
        "\n",
        "\n",
        "\n",
        "\n",
        "\n",
        "\n"
      ],
      "metadata": {
        "id": "w9p9CPmqSu4b"
      }
    },
    {
      "cell_type": "markdown",
      "source": [
        "For the EXCEL workbook click this link:\n",
        "\n",
        "[Fitness Club Advanced Excel Analysis](https://1drv.ms/x/c/77d3c2021f740d37/ETuGYSDC001GrRIvT2Kid5sBruurh-fNXEQFPJS_dEZcfQ?e=Xbv1jK)"
      ],
      "metadata": {
        "id": "gbT69WzW7dcK"
      }
    }
  ]
}